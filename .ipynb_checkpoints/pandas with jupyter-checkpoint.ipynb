{
 "cells": [
  {
   "cell_type": "markdown",
   "id": "717c85a2",
   "metadata": {},
   "source": [
    "# Jupyter notebook\n",
    "\n",
    "\n",
    "주피터 노트북은 셀단위로 코드블럭을 작성하여 디버깅, 코딩, 테스트, 문서화 작업을 쉽게 만들어주는 개발 도구이다.\n",
    "\n",
    "> 1. 셀단위 또는 셀 묶음 단위로 실행이 가능하다  \n",
    "> 1. 편집 또는 명령 모드가 있다  \n",
    "> 1. 마크다운 모드로 문서화 작업에 매우 유용하다  \n",
    "> 1. 변수의 값을 쉽게 확인 가능하다  \n",
    "> 1. 이미지, 그래프, 영상, 표 등 시각화 자료를 쉽게 확인할 수 있다  \n",
    "> 1. 주로 데이터 분석 및 실험에 많이 사용된다  \n",
    "> 1. 코드의 단위 테스트에도 매우 유용하다  "
   ]
  },
  {
   "attachments": {
    "intro_ball.gif": {
     "image/gif": "[encoded data removed]"
    }
   },
   "cell_type": "markdown",
   "id": "c5d3a170",
   "metadata": {},
   "source": [
    "###### 다음은 이미지를 삽입한 예이다  \n",
    "\n",
    "\n",
    "![intro_ball.gif](attachment:intro_ball.gif)"
   ]
  },
  {
   "cell_type": "markdown",
   "id": "820066a5",
   "metadata": {},
   "source": [
    "---\n",
    "### 유용한 단축키와 기능\n",
    "\n",
    "#### 명령어 모드에서 단축키 및 기능\n",
    "> 1. Ctrl + Enter : 현재 셀 실행 (마크다운 소스인 경우 편집 모드 종료되며 최종 보기 형태로 변경됨)  \n",
    "> 1. Shift + Enter : 셀순서대로 현재 셀까지 실행됨  \n",
    "> 1. Enter : 편지 모드로 전환  \n",
    "> 1. B : 아래에 새로운 셀을 만듬  \n",
    "> 1. A : 현재 선택된 셀위에 새로운 셀을 삽입함  \n",
    "> 1. M : 마크다운 셀로 변경  \n",
    "> 1. Y : Code 셀로 변경  \n",
    "> 1. X : 현재 셀 잘라내기  \n",
    "> 1. C : 현재 셀 복사  \n",
    "> 1. V : 현재 셀 아래에 복사한 셀 삽입  \n",
    "> 1. Shift + V : 현재 셀 위에 복사한 셀 삽입  \n",
    "> 1. 1 ~ 6 : 마크다운의 헤딩을 단계별로 변경  \n",
    "> 1. Shift + L : 토글 라인 넘버  \n",
    "\n",
    "\n",
    "#### 편집 모드에서 단축키 및 기능\n",
    "> 1. ESC : 명령어 모드로 전환\n",
    "> 1. Ctrl + Enter : 현재 셀 실행 (마크다운 소스인 경우 편집 모드 종료되며 최종 보기 형태로 변경됨)  \n",
    "> 1. Shift + Enter : 셀순서대로 현재 셀까지 실행됨  \n",
    "> 1. tab : intellisence\n",
    "> 1. Shift + tab : tool tip"
   ]
  },
  {
   "cell_type": "markdown",
   "id": "52c784ef",
   "metadata": {},
   "source": [
    "### 마크다운 사용법\n",
    "\n",
    "[마크다운 사용법](https://gist.github.com/ihoneymon/652be052a0727ad59601#2-%EB%A7%88%ED%81%AC%EB%8B%A4%EC%9A%B4-%EC%82%AC%EC%9A%A9%EB%B2%95%EB%AC%B8%EB%B2%95)\n",
    "\n",
    "\n",
    "---"
   ]
  },
  {
   "cell_type": "markdown",
   "id": "3851063f",
   "metadata": {},
   "source": [
    "# Pandas\n",
    "\n",
    "데이터 분석 및 핸들링(?)에 많이 사용되는 python의 대표적인 라이브러리.  \n",
    "\n",
    "> 1. Pandas를 사용하여 빅데이터를 분석하고 통계를 내는데 사용한다.  \n",
    "> 1. Pandas는 데이터들의 연관성을 분석할 수 있고 가독성(?)을 높여준다.  "
   ]
  },
  {
   "cell_type": "markdown",
   "id": "dab5c012",
   "metadata": {},
   "source": [
    "### Series\n",
    "\n",
    "- Series는 Table(표)의 컬럼과 같다.  \n",
    "- 1차원 배열(List)을 저장하고 분석하는데 사용한다.  "
   ]
  },
  {
   "cell_type": "code",
   "execution_count": 1,
   "id": "b685d7d4",
   "metadata": {},
   "outputs": [
    {
     "name": "stdout",
     "output_type": "stream",
     "text": [
      "[48, 47, 69, 77, 77, 46, 53, 53, 93, 83]\n"
     ]
    }
   ],
   "source": [
    "import pandas as pd\n",
    "import random\n",
    "\n",
    "liScore = [random.randint(40,100) for _ in range(10)]\n",
    "print(liScore)"
   ]
  },
  {
   "cell_type": "code",
   "execution_count": 2,
   "id": "6b97e540",
   "metadata": {
    "scrolled": false
   },
   "outputs": [
    {
     "data": {
      "text/plain": [
       "0    48\n",
       "1    47\n",
       "2    69\n",
       "3    77\n",
       "4    77\n",
       "5    46\n",
       "6    53\n",
       "7    53\n",
       "8    93\n",
       "9    83\n",
       "dtype: int64"
      ]
     },
     "execution_count": 2,
     "metadata": {},
     "output_type": "execute_result"
    }
   ],
   "source": [
    "data = pd.Series(liScore)\n",
    "data     # print()문을 사용하지 않고 바로 데이터를 확인할 수 있다"
   ]
  },
  {
   "cell_type": "markdown",
   "id": "bba542de",
   "metadata": {},
   "source": [
    "#### Jupyter notebook 기능 1.\n",
    "\n",
    "print 문을 사용하지 않고 변수명만 한줄에 적으면 바로 그 변수의 데이터를 확인할 수 있다."
   ]
  },
  {
   "cell_type": "code",
   "execution_count": 3,
   "id": "0d1e2f59",
   "metadata": {
    "scrolled": true
   },
   "outputs": [
    {
     "data": {
      "text/plain": [
       "0    48\n",
       "1    47\n",
       "2    69\n",
       "3    77\n",
       "4    77\n",
       "5    46\n",
       "6    53\n",
       "7    53\n",
       "8    93\n",
       "9    83\n",
       "dtype: int64"
      ]
     },
     "execution_count": 3,
     "metadata": {},
     "output_type": "execute_result"
    }
   ],
   "source": [
    "data"
   ]
  },
  {
   "cell_type": "code",
   "execution_count": 4,
   "id": "0483dc8a",
   "metadata": {},
   "outputs": [
    {
     "data": {
      "text/plain": [
       "48"
      ]
     },
     "execution_count": 4,
     "metadata": {},
     "output_type": "execute_result"
    }
   ],
   "source": [
    "data[0]"
   ]
  },
  {
   "cell_type": "code",
   "execution_count": 5,
   "id": "88bfc71c",
   "metadata": {},
   "outputs": [
    {
     "data": {
      "text/plain": [
       "53"
      ]
     },
     "execution_count": 5,
     "metadata": {},
     "output_type": "execute_result"
    }
   ],
   "source": [
    "data[6]"
   ]
  },
  {
   "cell_type": "code",
   "execution_count": 6,
   "id": "90a74ecc",
   "metadata": {},
   "outputs": [
    {
     "data": {
      "text/plain": [
       "유재석    48\n",
       "강호동    47\n",
       "신동엽    69\n",
       "김종국    77\n",
       "지석진    77\n",
       "송지효    46\n",
       "이광수    53\n",
       "김구라    53\n",
       "현빈     93\n",
       "하하     83\n",
       "dtype: int64"
      ]
     },
     "execution_count": 6,
     "metadata": {},
     "output_type": "execute_result"
    }
   ],
   "source": [
    "data = pd.Series(liScore, index=['유재석', '강호동', '신동엽', '김종국', '지석진', '송지효', '이광수', '김구라', '현빈', '하하'])\n",
    "data"
   ]
  },
  {
   "cell_type": "code",
   "execution_count": 7,
   "id": "95b7f35d",
   "metadata": {
    "scrolled": true
   },
   "outputs": [
    {
     "data": {
      "text/plain": [
       "유재석    48\n",
       "강호동    47\n",
       "신동엽    69\n",
       "김종국    77\n",
       "지석진    77\n",
       "dtype: int64"
      ]
     },
     "execution_count": 7,
     "metadata": {},
     "output_type": "execute_result"
    }
   ],
   "source": [
    "data.head()    # 시리즈에 저장된 순서 상위(데이터값에 상관없이) 5(또는 갯수 지정)개를 반환"
   ]
  },
  {
   "cell_type": "code",
   "execution_count": 8,
   "id": "83f98b10",
   "metadata": {
    "scrolled": true
   },
   "outputs": [
    {
     "data": {
      "text/plain": [
       "김구라    53\n",
       "현빈     93\n",
       "하하     83\n",
       "dtype: int64"
      ]
     },
     "execution_count": 8,
     "metadata": {},
     "output_type": "execute_result"
    }
   ],
   "source": [
    "data.tail(3)   # 시리즈에 저장된 순서 하위(데이터값에 상관없이) 5(또는 갯수 지정)개를 반환"
   ]
  },
  {
   "cell_type": "code",
   "execution_count": 9,
   "id": "3b5016b7",
   "metadata": {},
   "outputs": [
    {
     "data": {
      "text/plain": [
       "(10,)"
      ]
     },
     "execution_count": 9,
     "metadata": {},
     "output_type": "execute_result"
    }
   ],
   "source": [
    "data.shape    # Series의 차원을 반환"
   ]
  },
  {
   "cell_type": "code",
   "execution_count": 10,
   "id": "6f5bb55d",
   "metadata": {},
   "outputs": [
    {
     "data": {
      "text/plain": [
       "10"
      ]
     },
     "execution_count": 10,
     "metadata": {},
     "output_type": "execute_result"
    }
   ],
   "source": [
    "data.size    # 저장된 데이터의 갯수"
   ]
  },
  {
   "cell_type": "code",
   "execution_count": 11,
   "id": "dcfac572",
   "metadata": {},
   "outputs": [
    {
     "data": {
      "text/plain": [
       "Index(['유재석', '강호동', '신동엽', '김종국', '지석진', '송지효', '이광수', '김구라', '현빈', '하하'], dtype='object')"
      ]
     },
     "execution_count": 11,
     "metadata": {},
     "output_type": "execute_result"
    }
   ],
   "source": [
    "data.index    # 인덱스값"
   ]
  },
  {
   "cell_type": "code",
   "execution_count": 12,
   "id": "6d28c93a",
   "metadata": {},
   "outputs": [
    {
     "data": {
      "text/plain": [
       "array([48, 47, 69, 77, 77, 46, 53, 53, 93, 83])"
      ]
     },
     "execution_count": 12,
     "metadata": {},
     "output_type": "execute_result"
    }
   ],
   "source": [
    "data.values"
   ]
  },
  {
   "cell_type": "code",
   "execution_count": 13,
   "id": "5ad6346f",
   "metadata": {},
   "outputs": [
    {
     "data": {
      "text/plain": [
       "dtype('int64')"
      ]
     },
     "execution_count": 13,
     "metadata": {},
     "output_type": "execute_result"
    }
   ],
   "source": [
    "data.dtype    # 메인 데이터의 타입"
   ]
  },
  {
   "cell_type": "code",
   "execution_count": 14,
   "id": "897bf816",
   "metadata": {},
   "outputs": [
    {
     "data": {
      "text/plain": [
       "count    10.000000\n",
       "mean     64.600000\n",
       "std      17.231754\n",
       "min      46.000000\n",
       "25%      49.250000\n",
       "50%      61.000000\n",
       "75%      77.000000\n",
       "max      93.000000\n",
       "dtype: float64"
      ]
     },
     "execution_count": 14,
     "metadata": {},
     "output_type": "execute_result"
    }
   ],
   "source": [
    "data.describe()    # 데이터의 분석 개요"
   ]
  },
  {
   "cell_type": "code",
   "execution_count": 15,
   "id": "6c33a977",
   "metadata": {},
   "outputs": [
    {
     "data": {
      "text/plain": [
       "송지효    46\n",
       "강호동    47\n",
       "유재석    48\n",
       "이광수    53\n",
       "김구라    53\n",
       "신동엽    69\n",
       "김종국    77\n",
       "지석진    77\n",
       "하하     83\n",
       "현빈     93\n",
       "dtype: int64"
      ]
     },
     "execution_count": 15,
     "metadata": {},
     "output_type": "execute_result"
    }
   ],
   "source": [
    "data.sort_values()    # 데이터 값으로 오름차순 정렬"
   ]
  },
  {
   "cell_type": "code",
   "execution_count": 16,
   "id": "3ca3254b",
   "metadata": {},
   "outputs": [
    {
     "data": {
      "text/plain": [
       "현빈     93\n",
       "하하     83\n",
       "김종국    77\n",
       "지석진    77\n",
       "신동엽    69\n",
       "이광수    53\n",
       "김구라    53\n",
       "유재석    48\n",
       "강호동    47\n",
       "송지효    46\n",
       "dtype: int64"
      ]
     },
     "execution_count": 16,
     "metadata": {},
     "output_type": "execute_result"
    }
   ],
   "source": [
    "data.sort_values(ascending=False)    # 데이터 값으로 내림차순 정렬"
   ]
  },
  {
   "cell_type": "code",
   "execution_count": 17,
   "id": "b38bbdde",
   "metadata": {},
   "outputs": [
    {
     "data": {
      "text/plain": [
       "강호동    47\n",
       "김구라    53\n",
       "김종국    77\n",
       "송지효    46\n",
       "신동엽    69\n",
       "유재석    48\n",
       "이광수    53\n",
       "지석진    77\n",
       "하하     83\n",
       "현빈     93\n",
       "dtype: int64"
      ]
     },
     "execution_count": 17,
     "metadata": {},
     "output_type": "execute_result"
    }
   ],
   "source": [
    "data.sort_index()    # 인덱스 값으로 오름차순 정렬"
   ]
  },
  {
   "cell_type": "code",
   "execution_count": 18,
   "id": "ef5f0a84",
   "metadata": {},
   "outputs": [
    {
     "data": {
      "text/plain": [
       "array([48, 47, 69, 77, 46, 53, 93, 83])"
      ]
     },
     "execution_count": 18,
     "metadata": {},
     "output_type": "execute_result"
    }
   ],
   "source": [
    "data.unique()    # 유니크한 데이터들만 반환"
   ]
  },
  {
   "cell_type": "code",
   "execution_count": 19,
   "id": "bdafaec5",
   "metadata": {},
   "outputs": [
    {
     "data": {
      "text/plain": [
       "8"
      ]
     },
     "execution_count": 19,
     "metadata": {},
     "output_type": "execute_result"
    }
   ],
   "source": [
    "data.nunique()    # 유니크한 데이터들의 갯수"
   ]
  },
  {
   "cell_type": "code",
   "execution_count": 20,
   "id": "82a2ba31",
   "metadata": {},
   "outputs": [
    {
     "data": {
      "text/plain": [
       "77    2\n",
       "53    2\n",
       "48    1\n",
       "47    1\n",
       "69    1\n",
       "46    1\n",
       "93    1\n",
       "83    1\n",
       "Name: count, dtype: int64"
      ]
     },
     "execution_count": 20,
     "metadata": {},
     "output_type": "execute_result"
    }
   ],
   "source": [
    "data.value_counts()    # 각 값들이 나타나는 횟수"
   ]
  },
  {
   "cell_type": "code",
   "execution_count": 21,
   "id": "57bce688",
   "metadata": {},
   "outputs": [
    {
     "data": {
      "text/plain": [
       "유재석    False\n",
       "강호동    False\n",
       "신동엽    False\n",
       "김종국    False\n",
       "지석진    False\n",
       "송지효    False\n",
       "이광수    False\n",
       "김구라    False\n",
       "현빈     False\n",
       "하하     False\n",
       "dtype: bool"
      ]
     },
     "execution_count": 21,
     "metadata": {},
     "output_type": "execute_result"
    }
   ],
   "source": [
    "data.isin([55,85])    # 매개변수로 전달된 값(들)이 어디에 존재하는지 체크"
   ]
  },
  {
   "cell_type": "code",
   "execution_count": 22,
   "id": "e6cbf7b7",
   "metadata": {},
   "outputs": [
    {
     "data": {
      "text/plain": [
       "유재석    48\n",
       "강호동    47\n",
       "신동엽    69\n",
       "김종국    77\n",
       "지석진    77\n",
       "송지효    46\n",
       "이광수    53\n",
       "김구라    53\n",
       "현빈     93\n",
       "하하     83\n",
       "dtype: int64"
      ]
     },
     "execution_count": 22,
     "metadata": {},
     "output_type": "execute_result"
    }
   ],
   "source": [
    "data.fillna({0:85})    # 결측값을 새로운 값으로 대치"
   ]
  },
  {
   "cell_type": "code",
   "execution_count": 23,
   "id": "11ed3e53",
   "metadata": {},
   "outputs": [
    {
     "data": {
      "text/plain": [
       "유재석   -16.6\n",
       "강호동   -17.6\n",
       "신동엽     4.4\n",
       "김종국    12.4\n",
       "지석진    12.4\n",
       "송지효   -18.6\n",
       "이광수   -11.6\n",
       "김구라   -11.6\n",
       "현빈     28.4\n",
       "하하     18.4\n",
       "dtype: float64"
      ]
     },
     "execution_count": 23,
     "metadata": {},
     "output_type": "execute_result"
    }
   ],
   "source": [
    "data.apply(lambda a : a-data.mean())   # 각 값에 어떤 함수를 적용한 결과값을 반환"
   ]
  },
  {
   "cell_type": "code",
   "execution_count": 24,
   "id": "c94182c0",
   "metadata": {},
   "outputs": [
    {
     "data": {
      "text/plain": [
       "유재석   NaN\n",
       "강호동   NaN\n",
       "신동엽   NaN\n",
       "김종국   NaN\n",
       "지석진   NaN\n",
       "송지효   NaN\n",
       "이광수   NaN\n",
       "김구라   NaN\n",
       "현빈    NaN\n",
       "하하    NaN\n",
       "dtype: float64"
      ]
     },
     "execution_count": 24,
     "metadata": {},
     "output_type": "execute_result"
    }
   ],
   "source": [
    "newdict = dict()\n",
    "data.map(newdict)"
   ]
  },
  {
   "cell_type": "code",
   "execution_count": 31,
   "id": "768043b0",
   "metadata": {},
   "outputs": [
    {
     "name": "stdout",
     "output_type": "stream",
     "text": [
      "가수     160\n",
      "개그맨    294\n",
      "배우     192\n",
      "dtype: int64\n",
      "가수     80.0\n",
      "개그맨    58.8\n",
      "배우     64.0\n",
      "dtype: float64\n"
     ]
    },
    {
     "data": {
      "text/html": [
       "<div>\n",
       "<style scoped>\n",
       "    .dataframe tbody tr th:only-of-type {\n",
       "        vertical-align: middle;\n",
       "    }\n",
       "\n",
       "    .dataframe tbody tr th {\n",
       "        vertical-align: top;\n",
       "    }\n",
       "\n",
       "    .dataframe thead th {\n",
       "        text-align: right;\n",
       "    }\n",
       "</style>\n",
       "<table border=\"1\" class=\"dataframe\">\n",
       "  <thead>\n",
       "    <tr style=\"text-align: right;\">\n",
       "      <th></th>\n",
       "      <th>count</th>\n",
       "      <th>mean</th>\n",
       "      <th>std</th>\n",
       "      <th>min</th>\n",
       "      <th>25%</th>\n",
       "      <th>50%</th>\n",
       "      <th>75%</th>\n",
       "      <th>max</th>\n",
       "    </tr>\n",
       "  </thead>\n",
       "  <tbody>\n",
       "    <tr>\n",
       "      <th>가수</th>\n",
       "      <td>2.0</td>\n",
       "      <td>80.0</td>\n",
       "      <td>4.242641</td>\n",
       "      <td>77.0</td>\n",
       "      <td>78.5</td>\n",
       "      <td>80.0</td>\n",
       "      <td>81.5</td>\n",
       "      <td>83.0</td>\n",
       "    </tr>\n",
       "    <tr>\n",
       "      <th>개그맨</th>\n",
       "      <td>5.0</td>\n",
       "      <td>58.8</td>\n",
       "      <td>13.461055</td>\n",
       "      <td>47.0</td>\n",
       "      <td>48.0</td>\n",
       "      <td>53.0</td>\n",
       "      <td>69.0</td>\n",
       "      <td>77.0</td>\n",
       "    </tr>\n",
       "    <tr>\n",
       "      <th>배우</th>\n",
       "      <td>3.0</td>\n",
       "      <td>64.0</td>\n",
       "      <td>25.357445</td>\n",
       "      <td>46.0</td>\n",
       "      <td>49.5</td>\n",
       "      <td>53.0</td>\n",
       "      <td>73.0</td>\n",
       "      <td>93.0</td>\n",
       "    </tr>\n",
       "  </tbody>\n",
       "</table>\n",
       "</div>"
      ],
      "text/plain": [
       "     count  mean        std   min   25%   50%   75%   max\n",
       "가수     2.0  80.0   4.242641  77.0  78.5  80.0  81.5  83.0\n",
       "개그맨    5.0  58.8  13.461055  47.0  48.0  53.0  69.0  77.0\n",
       "배우     3.0  64.0  25.357445  46.0  49.5  53.0  73.0  93.0"
      ]
     },
     "execution_count": 31,
     "metadata": {},
     "output_type": "execute_result"
    }
   ],
   "source": [
    "without_index_data = data.reset_index(drop=True)\n",
    "subject = pd.Series(['개그맨', '개그맨', '개그맨', '가수', '개그맨', '배우', '배우', '개그맨', '배우', '가수'])\n",
    "grouped = without_index_data.groupby(subject)\n",
    "sum_by_subject = grouped.sum()\n",
    "mean_by_subject = grouped.mean()\n",
    "print(sum_by_subject)\n",
    "print(mean_by_subject)\n",
    "grouped.describe()"
   ]
  },
  {
   "cell_type": "code",
   "execution_count": 26,
   "id": "fb4f3ecf",
   "metadata": {},
   "outputs": [
    {
     "data": {
      "text/plain": [
       "유재석    48\n",
       "강호동    47\n",
       "신동엽    69\n",
       "김종국    77\n",
       "지석진    77\n",
       "송지효    46\n",
       "이광수    53\n",
       "김구라    53\n",
       "현빈     93\n",
       "하하     83\n",
       "dtype: int64"
      ]
     },
     "execution_count": 26,
     "metadata": {},
     "output_type": "execute_result"
    }
   ],
   "source": [
    "data"
   ]
  },
  {
   "cell_type": "code",
   "execution_count": 27,
   "id": "012b266a",
   "metadata": {},
   "outputs": [
    {
     "data": {
      "text/plain": [
       "646"
      ]
     },
     "execution_count": 27,
     "metadata": {},
     "output_type": "execute_result"
    }
   ],
   "source": [
    "data.sum()     # 데이터들의 합"
   ]
  },
  {
   "cell_type": "code",
   "execution_count": 28,
   "id": "95b49f45",
   "metadata": {},
   "outputs": [
    {
     "data": {
      "text/plain": [
       "64.6"
      ]
     },
     "execution_count": 28,
     "metadata": {},
     "output_type": "execute_result"
    }
   ],
   "source": [
    "data.mean()    # 데이터들의 평균"
   ]
  },
  {
   "cell_type": "code",
   "execution_count": 29,
   "id": "11e60fb2",
   "metadata": {},
   "outputs": [
    {
     "data": {
      "text/plain": [
       "17.23175363488387"
      ]
     },
     "execution_count": 29,
     "metadata": {},
     "output_type": "execute_result"
    }
   ],
   "source": [
    "data.std()     # 데이터들의 표준편차"
   ]
  }
 ],
 "metadata": {
  "kernelspec": {
   "display_name": "Python 3 (ipykernel)",
   "language": "python",
   "name": "python3"
  },
  "language_info": {
   "codemirror_mode": {
    "name": "ipython",
    "version": 3
   },
   "file_extension": ".py",
   "mimetype": "text/x-python",
   "name": "python",
   "nbconvert_exporter": "python",
   "pygments_lexer": "ipython3",
   "version": "3.10.9"
  }
 },
 "nbformat": 4,
 "nbformat_minor": 5
}
